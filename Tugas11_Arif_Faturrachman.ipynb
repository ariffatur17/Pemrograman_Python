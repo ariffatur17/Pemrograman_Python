{
 "cells": [
  {
   "cell_type": "code",
   "execution_count": 2,
   "metadata": {
    "id": "z7VB1d4wVdov",
    "scrolled": true
   },
   "outputs": [
    {
     "name": "stdout",
     "output_type": "stream",
     "text": [
      " Volume in drive C has no label.\n",
      " Volume Serial Number is D0C3-C0A2\n",
      "\n",
      " Directory of C:\\Users\\ARIFFATURRACHMAN\\Documents\\Python\n",
      "\n",
      "04/12/2020  22:25    <DIR>          .\n",
      "04/12/2020  22:25    <DIR>          ..\n",
      "04/12/2020  18:45    <DIR>          .ipynb_checkpoints\n",
      "04/12/2020  18:49       180.689.752 best_weight_scene_mobileNet.h5\n",
      "16/09/2020  23:15         1.329.062 coba.jpg\n",
      "14/10/2019  09:03            69.064 forest_coba.jpg\n",
      "04/12/2020  16:28    <DIR>          ImageDir\n",
      "04/12/2020  19:01    <DIR>          ImageDir1\n",
      "04/12/2020  21:55         4.961.032 nnmodel_scene\n",
      "04/12/2020  18:59           246.504 Pertemuan10_Arif_Faturrachman_1101194103.ipynb\n",
      "04/12/2020  22:25           139.126 Tugas11_Arif_Faturrachman.ipynb\n",
      "               6 File(s)    187.434.540 bytes\n",
      "               5 Dir(s)  70.359.056.384 bytes free\n"
     ]
    }
   ],
   "source": [
    "ls"
   ]
  },
  {
   "cell_type": "code",
   "execution_count": 3,
   "metadata": {
    "id": "5IGm26ZzVGBs"
   },
   "outputs": [
    {
     "name": "stderr",
     "output_type": "stream",
     "text": [
      "Using TensorFlow backend.\n"
     ]
    }
   ],
   "source": [
    "# import the necessary packages\n",
    "from keras.models import Sequential\n",
    "from keras.layers.core import Activation\n",
    "from keras.layers.core import Flatten\n",
    "from keras.layers.core import Dense\n",
    "from keras.optimizers import Adam\n",
    "from sklearn.preprocessing import LabelBinarizer\n",
    "from sklearn.model_selection import train_test_split\n",
    "from sklearn.metrics import classification_report\n",
    "from PIL import Image\n",
    "from imutils import paths\n",
    "import numpy as np\n",
    "import os"
   ]
  },
  {
   "cell_type": "code",
   "execution_count": 4,
   "metadata": {
    "colab": {
     "base_uri": "https://localhost:8080/"
    },
    "id": "0-5PXYTsVGBw",
    "outputId": "5eacc3b0-a420-41f5-c550-6cf26e3cde99"
   },
   "outputs": [
    {
     "name": "stdout",
     "output_type": "stream",
     "text": [
      "[INFO] loading images...\n"
     ]
    }
   ],
   "source": [
    "# grab all image paths in the input dataset directory, then initialize\n",
    "# our list of images and corresponding class labels\n",
    "print(\"[INFO] loading images...\")\n",
    "imagePaths = paths.list_images(\"ImageDir1\")\n",
    "data = []\n",
    "labels = []"
   ]
  },
  {
   "cell_type": "code",
   "execution_count": 5,
   "metadata": {
    "id": "9Q-KXSsGVGB0"
   },
   "outputs": [],
   "source": [
    "# loop over our input images\n",
    "for imagePath in imagePaths:\n",
    "    # load the input image from disk, resize it to 64x64 pixels, scale\n",
    "\t# the pixel intensities to the range [0, 1], and then update our\n",
    "\t# images list\n",
    "\timage = Image.open(imagePath)\n",
    "  #preprocessing\n",
    "\timage = np.array(image.resize((64, 64))) / 255.0 #normalisasi\n",
    "\tdata.append(image)\n",
    "\n",
    "\t# extract the class label from the file path and update the\n",
    "\t# labels list\n",
    "\tlabel = imagePath.split(os.path.sep)[-2]\n",
    "\tlabels.append(label)"
   ]
  },
  {
   "cell_type": "code",
   "execution_count": 6,
   "metadata": {
    "colab": {
     "base_uri": "https://localhost:8080/"
    },
    "id": "Rzbolh88VGB2",
    "outputId": "3800a771-753c-44f0-db80-9b3e45b06c03"
   },
   "outputs": [
    {
     "name": "stdout",
     "output_type": "stream",
     "text": [
      "['GMB_01', 'GMB_01', 'GMB_01', 'GMB_01', 'GMB_01', 'GMB_01', 'GMB_01', 'GMB_01', 'GMB_01', 'GMB_01', 'GMB_01', 'GMB_01', 'GMB_01', 'GMB_01', 'GMB_01', 'GMB_01', 'GMB_01', 'GMB_01', 'GMB_01', 'GMB_01', 'GMB_01', 'GMB_01', 'GMB_01', 'GMB_01', 'GMB_01', 'GMB_01', 'GMB_01', 'GMB_01', 'GMB_01', 'GMB_01', 'GMB_01', 'GMB_01', 'GMB_01', 'GMB_01', 'GMB_01', 'GMB_01', 'GMB_01', 'GMB_01', 'GMB_01', 'GMB_01', 'GMB_01', 'GMB_01', 'GMB_01', 'GMB_01', 'GMB_01', 'GMB_01', 'GMB_01', 'GMB_01', 'GMB_01', 'GMB_01', 'GMB_01', 'GMB_01', 'GMB_01', 'GMB_01', 'GMB_01', 'GMB_01', 'GMB_01', 'GMB_01', 'GMB_01', 'GMB_01', 'GMB_01', 'GMB_01', 'GMB_01', 'GMB_01', 'GMB_01', 'GMB_01', 'GMB_01', 'GMB_01', 'GMB_01', 'GMB_01', 'GMB_01', 'GMB_01', 'GMB_01', 'GMB_01', 'GMB_01', 'GMB_01', 'GMB_01', 'GMB_01', 'GMB_01', 'GMB_01', 'GMB_01', 'GMB_01', 'GMB_01', 'GMB_01', 'GMB_01', 'GMB_01', 'GMB_01', 'GMB_01', 'GMB_01', 'GMB_01', 'GMB_01', 'GMB_01', 'GMB_01', 'GMB_01', 'GMB_01', 'GMB_01', 'GMB_01', 'GMB_01', 'GMB_01', 'GMB_01', 'GMB_01', 'GMB_01', 'GMB_01', 'GMB_01', 'GMB_01', 'GMB_01', 'GMB_01', 'GMB_01', 'GMB_01', 'GMB_01', 'GMB_01', 'GMB_01', 'GMB_01', 'GMB_01', 'GMB_01', 'GMB_01', 'GMB_03', 'GMB_03', 'GMB_03', 'GMB_03', 'GMB_03', 'GMB_03', 'GMB_03', 'GMB_03', 'GMB_03', 'GMB_03', 'GMB_03', 'GMB_03', 'GMB_03', 'GMB_03', 'GMB_03', 'GMB_03', 'GMB_03', 'GMB_03', 'GMB_03', 'GMB_03', 'GMB_03', 'GMB_03', 'GMB_03', 'GMB_03', 'GMB_03', 'GMB_03', 'GMB_03', 'GMB_03', 'GMB_03', 'GMB_03', 'GMB_03', 'GMB_03', 'GMB_03', 'GMB_03', 'GMB_03', 'GMB_03', 'GMB_03', 'GMB_03', 'GMB_03', 'GMB_03', 'GMB_03', 'GMB_03', 'GMB_03', 'GMB_03', 'GMB_03', 'GMB_03', 'GMB_03', 'GMB_03', 'GMB_03', 'GMB_03', 'GMB_03', 'GMB_03', 'GMB_03', 'GMB_03', 'GMB_03', 'GMB_03', 'GMB_03', 'GMB_03', 'GMB_03', 'GMB_03', 'GMB_03', 'GMB_03', 'GMB_03', 'GMB_03', 'GMB_03', 'GMB_03', 'GMB_03', 'GMB_03', 'GMB_03', 'GMB_03', 'GMB_03', 'GMB_03', 'GMB_03', 'GMB_03', 'GMB_03', 'GMB_03', 'GMB_03', 'GMB_03', 'GMB_03', 'GMB_03', 'GMB_03', 'GMB_03', 'GMB_03', 'GMB_03', 'GMB_03', 'GMB_03', 'GMB_03', 'GMB_03', 'GMB_03', 'GMB_03', 'GMB_03', 'GMB_03', 'GMB_03', 'GMB_03', 'GMB_03', 'GMB_03', 'GMB_03', 'GMB_03', 'GMB_03', 'GMB_03', 'GMB_03', 'GMB_03', 'GMB_03', 'GMB_03', 'GMB_03', 'GMB_03', 'GMB_03', 'GMB_03', 'GMB_03', 'GMB_03', 'GMB_03', 'GMB_03', 'GMB_05', 'GMB_05', 'GMB_05', 'GMB_05', 'GMB_05', 'GMB_05', 'GMB_05', 'GMB_05', 'GMB_05', 'GMB_05', 'GMB_05', 'GMB_05', 'GMB_05', 'GMB_05', 'GMB_05', 'GMB_05', 'GMB_05', 'GMB_05', 'GMB_05', 'GMB_05', 'GMB_05', 'GMB_05', 'GMB_05', 'GMB_05', 'GMB_05', 'GMB_05', 'GMB_05', 'GMB_05', 'GMB_05', 'GMB_05', 'GMB_05', 'GMB_05', 'GMB_05', 'GMB_05', 'GMB_05', 'GMB_05', 'GMB_05', 'GMB_05', 'GMB_05', 'GMB_05', 'GMB_05', 'GMB_05', 'GMB_05', 'GMB_05', 'GMB_05', 'GMB_05', 'GMB_05', 'GMB_05', 'GMB_05', 'GMB_05', 'GMB_05', 'GMB_05', 'GMB_05', 'GMB_05', 'GMB_05', 'GMB_05', 'GMB_05', 'GMB_05', 'GMB_05', 'GMB_05', 'GMB_05', 'GMB_05', 'GMB_05', 'GMB_05', 'GMB_05', 'GMB_05', 'GMB_05', 'GMB_05', 'GMB_05', 'GMB_05', 'GMB_05', 'GMB_05', 'GMB_05', 'GMB_05', 'GMB_05', 'GMB_05', 'GMB_05', 'GMB_05', 'GMB_05', 'GMB_05', 'GMB_05', 'GMB_05', 'GMB_05', 'GMB_05', 'GMB_05', 'GMB_05', 'GMB_05', 'GMB_05', 'GMB_05', 'GMB_05', 'GMB_05', 'GMB_05', 'GMB_05', 'GMB_05', 'GMB_05', 'GMB_05', 'GMB_05', 'GMB_05', 'GMB_05', 'GMB_05', 'GMB_05', 'GMB_05', 'GMB_05', 'GMB_05', 'GMB_05', 'GMB_05', 'GMB_05', 'GMB_05', 'GMB_05', 'GMB_05', 'GMB_05', 'GMB_05', 'GMB_05', 'GMB_05', 'GMB_05', 'GMB_05', 'GMB_05', 'GMB_05', 'GMB_05', 'GMB_05', 'GMB_05', 'GMB_07', 'GMB_07', 'GMB_07', 'GMB_07', 'GMB_07', 'GMB_07', 'GMB_07', 'GMB_07', 'GMB_07', 'GMB_07', 'GMB_07', 'GMB_07', 'GMB_07', 'GMB_07', 'GMB_07', 'GMB_07', 'GMB_07', 'GMB_07', 'GMB_07', 'GMB_07', 'GMB_07', 'GMB_07', 'GMB_07', 'GMB_07', 'GMB_07', 'GMB_07', 'GMB_07', 'GMB_07', 'GMB_07', 'GMB_07', 'GMB_07', 'GMB_07', 'GMB_07', 'GMB_07', 'GMB_07', 'GMB_07', 'GMB_07', 'GMB_07', 'GMB_07', 'GMB_07', 'GMB_07', 'GMB_07', 'GMB_07', 'GMB_07', 'GMB_07', 'GMB_07', 'GMB_07', 'GMB_07', 'GMB_07', 'GMB_07', 'GMB_07', 'GMB_07', 'GMB_07', 'GMB_07', 'GMB_07', 'GMB_07', 'GMB_07', 'GMB_07', 'GMB_07', 'GMB_07', 'GMB_07', 'GMB_07', 'GMB_07', 'GMB_07', 'GMB_07', 'GMB_07', 'GMB_07', 'GMB_07', 'GMB_07', 'GMB_07', 'GMB_07', 'GMB_07', 'GMB_07', 'GMB_07', 'GMB_07', 'GMB_07', 'GMB_07', 'GMB_07', 'GMB_07', 'GMB_07', 'GMB_07', 'GMB_07', 'GMB_07', 'GMB_07', 'GMB_07', 'GMB_07', 'GMB_07', 'GMB_07', 'GMB_07', 'GMB_07', 'GMB_07', 'GMB_07', 'GMB_07', 'GMB_07', 'GMB_07', 'GMB_07', 'GMB_07', 'GMB_07', 'GMB_07', 'GMB_07', 'GMB_07', 'GMB_07', 'GMB_07', 'GMB_07', 'GMB_07', 'GMB_07', 'GMB_07', 'GMB_07', 'GMB_07', 'GMB_07', 'GMB_07', 'GMB_07', 'GMB_07', 'GMB_07', 'GMB_07', 'GMB_07', 'GMB_07', 'GMB_07', 'GMB_07', 'GMB_07', 'GMB_07', 'GMB_09', 'GMB_09', 'GMB_09', 'GMB_09', 'GMB_09', 'GMB_09', 'GMB_09', 'GMB_09', 'GMB_09', 'GMB_09', 'GMB_09', 'GMB_09', 'GMB_09', 'GMB_09', 'GMB_09', 'GMB_09', 'GMB_09', 'GMB_09', 'GMB_09', 'GMB_09', 'GMB_09', 'GMB_09', 'GMB_09', 'GMB_09', 'GMB_09', 'GMB_09', 'GMB_09', 'GMB_09', 'GMB_09', 'GMB_09', 'GMB_09', 'GMB_09', 'GMB_09', 'GMB_09', 'GMB_09', 'GMB_09', 'GMB_09', 'GMB_09', 'GMB_09', 'GMB_09', 'GMB_09', 'GMB_09', 'GMB_09', 'GMB_09', 'GMB_09', 'GMB_09', 'GMB_09', 'GMB_09', 'GMB_09', 'GMB_09', 'GMB_09', 'GMB_09', 'GMB_09', 'GMB_09', 'GMB_09', 'GMB_09', 'GMB_09', 'GMB_09', 'GMB_09', 'GMB_09', 'GMB_09', 'GMB_09', 'GMB_09', 'GMB_09', 'GMB_09', 'GMB_09', 'GMB_09', 'GMB_09', 'GMB_09', 'GMB_09', 'GMB_09', 'GMB_09', 'GMB_09', 'GMB_09', 'GMB_09', 'GMB_09', 'GMB_09', 'GMB_09', 'GMB_09', 'GMB_09', 'GMB_09', 'GMB_09', 'GMB_09', 'GMB_09', 'GMB_09', 'GMB_09', 'GMB_09', 'GMB_09', 'GMB_09', 'GMB_09', 'GMB_09', 'GMB_09', 'GMB_09', 'GMB_09', 'GMB_09', 'GMB_09', 'GMB_09', 'GMB_09', 'GMB_09', 'GMB_09', 'GMB_09', 'GMB_09', 'GMB_09', 'GMB_09', 'GMB_09', 'GMB_09', 'GMB_09', 'GMB_09', 'GMB_09', 'GMB_09', 'GMB_09', 'GMB_09', 'GMB_09', 'GMB_09', 'GMB_09']\n"
     ]
    }
   ],
   "source": [
    "print(labels)"
   ]
  },
  {
   "cell_type": "code",
   "execution_count": 7,
   "metadata": {
    "id": "twd1IeuKVGB5"
   },
   "outputs": [],
   "source": [
    "# encode the labels, converting them from strings to integers\n",
    "lb = LabelBinarizer()\n",
    "labels = lb.fit_transform(labels)"
   ]
  },
  {
   "cell_type": "code",
   "execution_count": 8,
   "metadata": {
    "colab": {
     "base_uri": "https://localhost:8080/"
    },
    "id": "5FPCyIqcVGB7",
    "outputId": "cfa077f2-6e93-45d8-96ec-f03a9dec0e56"
   },
   "outputs": [
    {
     "name": "stdout",
     "output_type": "stream",
     "text": [
      "[[1 0 0 0 0]\n",
      " [1 0 0 0 0]\n",
      " [1 0 0 0 0]\n",
      " ...\n",
      " [0 0 0 0 1]\n",
      " [0 0 0 0 1]\n",
      " [0 0 0 0 1]]\n"
     ]
    }
   ],
   "source": [
    "print(labels)"
   ]
  },
  {
   "cell_type": "code",
   "execution_count": 9,
   "metadata": {
    "colab": {
     "base_uri": "https://localhost:8080/"
    },
    "id": "ktZ5hNYwVGB9",
    "outputId": "864bf0d3-d47d-4b41-e55f-9a2bcbf5d5c6"
   },
   "outputs": [
    {
     "name": "stdout",
     "output_type": "stream",
     "text": [
      "(438, 64, 64, 3)\n",
      "(147, 64, 64, 3)\n"
     ]
    }
   ],
   "source": [
    "# perform a training and testing split, using 75% of the data for\n",
    "# training and 25% for evaluation\n",
    "(trainX, testX, trainY, testY) = train_test_split(np.array(data), np.array(labels), test_size=0.25, shuffle=True)\n",
    "print(trainX.shape)\n",
    "print(testX.shape)"
   ]
  },
  {
   "cell_type": "code",
   "execution_count": 10,
   "metadata": {
    "colab": {
     "base_uri": "https://localhost:8080/"
    },
    "id": "MSxR7GLQvrUP",
    "outputId": "d76063cf-8359-43f3-b878-16aee8a476d0"
   },
   "outputs": [
    {
     "name": "stdout",
     "output_type": "stream",
     "text": [
      "Model: \"sequential_1\"\n",
      "_________________________________________________________________\n",
      "Layer (type)                 Output Shape              Param #   \n",
      "=================================================================\n",
      "conv2d_1 (Conv2D)            (None, 62, 62, 8)         224       \n",
      "_________________________________________________________________\n",
      "max_pooling2d_1 (MaxPooling2 (None, 31, 31, 8)         0         \n",
      "_________________________________________________________________\n",
      "conv2d_2 (Conv2D)            (None, 29, 29, 16)        1168      \n",
      "_________________________________________________________________\n",
      "max_pooling2d_2 (MaxPooling2 (None, 14, 14, 16)        0         \n",
      "_________________________________________________________________\n",
      "flatten_1 (Flatten)          (None, 3136)              0         \n",
      "_________________________________________________________________\n",
      "dense_1 (Dense)              (None, 100)               313700    \n",
      "_________________________________________________________________\n",
      "dense_2 (Dense)              (None, 5)                 505       \n",
      "=================================================================\n",
      "Total params: 315,597\n",
      "Trainable params: 315,597\n",
      "Non-trainable params: 0\n",
      "_________________________________________________________________\n"
     ]
    }
   ],
   "source": [
    "from keras.layers import Convolution2D, MaxPooling2D\n",
    "from keras.models import Sequential\n",
    "from keras.layers.core import Flatten, Dense\n",
    "\n",
    "model1 = Sequential()\n",
    "model1.add(Convolution2D(8, (3,3), activation='relu', input_shape=(64,64,3)))\n",
    "model1.add(MaxPooling2D(2,2))\n",
    "model1.add(Convolution2D(16, (3,3), activation='relu'))\n",
    "model1.add(MaxPooling2D(2,2))\n",
    "#fully connected layer\n",
    "model1.add(Flatten())\n",
    "model1.add(Dense(100, activation='relu'))\n",
    "model1.add(Dense(5, activation='softmax'))\n",
    "\n",
    "model1.summary()"
   ]
  },
  {
   "cell_type": "code",
   "execution_count": 11,
   "metadata": {
    "id": "sny_9-wU8PGB"
   },
   "outputs": [],
   "source": [
    "from keras.models import Sequential\n",
    "from keras.layers.core import Flatten\n",
    "from keras.layers.core import Dense\n",
    "\n",
    "model = Sequential(\n",
    "    [\n",
    "        Flatten(input_shape=(64,64,3)),\n",
    "        Dense(100, activation=\"relu\", name=\"layer1\"),\n",
    "        Dense(50, activation=\"relu\", name=\"layer2\"),\n",
    "        Dense(25, activation=\"relu\", name=\"layer3\"),\n",
    "        Dense(5, activation = \"softmax\", name=\"layer4\"),\n",
    "    ]\n",
    ")"
   ]
  },
  {
   "cell_type": "code",
   "execution_count": 12,
   "metadata": {
    "colab": {
     "base_uri": "https://localhost:8080/"
    },
    "id": "L0TdWxuFPkT3",
    "outputId": "afb5cd30-3d2d-4816-f354-27937c604554"
   },
   "outputs": [
    {
     "name": "stdout",
     "output_type": "stream",
     "text": [
      "Model: \"sequential_2\"\n",
      "_________________________________________________________________\n",
      "Layer (type)                 Output Shape              Param #   \n",
      "=================================================================\n",
      "flatten_2 (Flatten)          (None, 12288)             0         \n",
      "_________________________________________________________________\n",
      "layer1 (Dense)               (None, 100)               1228900   \n",
      "_________________________________________________________________\n",
      "layer2 (Dense)               (None, 50)                5050      \n",
      "_________________________________________________________________\n",
      "layer3 (Dense)               (None, 25)                1275      \n",
      "_________________________________________________________________\n",
      "layer4 (Dense)               (None, 5)                 130       \n",
      "=================================================================\n",
      "Total params: 1,235,355\n",
      "Trainable params: 1,235,355\n",
      "Non-trainable params: 0\n",
      "_________________________________________________________________\n"
     ]
    }
   ],
   "source": [
    "model.summary()"
   ]
  },
  {
   "cell_type": "code",
   "execution_count": 13,
   "metadata": {
    "colab": {
     "base_uri": "https://localhost:8080/"
    },
    "id": "ggcSdj_aVGCB",
    "outputId": "a29f5c5f-ab7a-4b91-b2c7-d36904b8ed19",
    "scrolled": true
   },
   "outputs": [
    {
     "name": "stdout",
     "output_type": "stream",
     "text": [
      "[INFO] training network...\n"
     ]
    }
   ],
   "source": [
    "# train the model using the Adam optimizer\n",
    "print(\"[INFO] training network...\")\n",
    "opt = Adam(lr=1e-3, decay=1e-3 / 50)\n",
    "model1.compile(loss=\"categorical_crossentropy\", optimizer=opt, metrics=[\"accuracy\"])"
   ]
  },
  {
   "cell_type": "code",
   "execution_count": 14,
   "metadata": {
    "colab": {
     "base_uri": "https://localhost:8080/"
    },
    "id": "3bbMakb0w-XZ",
    "outputId": "aa764b09-1377-49b8-fa0b-171fc79b4195"
   },
   "outputs": [
    {
     "name": "stdout",
     "output_type": "stream",
     "text": [
      "Train on 438 samples, validate on 147 samples\n",
      "Epoch 1/25\n",
      "438/438 [==============================] - 2s 4ms/step - loss: 1.6092 - accuracy: 0.2352 - val_loss: 1.5275 - val_accuracy: 0.2177\n",
      "Epoch 2/25\n",
      "438/438 [==============================] - 1s 3ms/step - loss: 1.4503 - accuracy: 0.3995 - val_loss: 1.3165 - val_accuracy: 0.4422\n",
      "Epoch 3/25\n",
      "438/438 [==============================] - 2s 3ms/step - loss: 1.1716 - accuracy: 0.5228 - val_loss: 1.0099 - val_accuracy: 0.6122\n",
      "Epoch 4/25\n",
      "438/438 [==============================] - 2s 3ms/step - loss: 1.0176 - accuracy: 0.5959 - val_loss: 0.9465 - val_accuracy: 0.5986\n",
      "Epoch 5/25\n",
      "438/438 [==============================] - 1s 3ms/step - loss: 0.8665 - accuracy: 0.6963 - val_loss: 0.9620 - val_accuracy: 0.6190\n",
      "Epoch 6/25\n",
      "438/438 [==============================] - 2s 4ms/step - loss: 0.7971 - accuracy: 0.7237 - val_loss: 0.9006 - val_accuracy: 0.6531\n",
      "Epoch 7/25\n",
      "438/438 [==============================] - 2s 3ms/step - loss: 0.6808 - accuracy: 0.7671 - val_loss: 0.6802 - val_accuracy: 0.7959\n",
      "Epoch 8/25\n",
      "438/438 [==============================] - 2s 3ms/step - loss: 0.6078 - accuracy: 0.7877 - val_loss: 0.6264 - val_accuracy: 0.7959\n",
      "Epoch 9/25\n",
      "438/438 [==============================] - 1s 3ms/step - loss: 0.6175 - accuracy: 0.7763 - val_loss: 0.8371 - val_accuracy: 0.6463\n",
      "Epoch 10/25\n",
      "438/438 [==============================] - 2s 3ms/step - loss: 0.6358 - accuracy: 0.7580 - val_loss: 0.6755 - val_accuracy: 0.6871\n",
      "Epoch 11/25\n",
      "438/438 [==============================] - 2s 4ms/step - loss: 0.5434 - accuracy: 0.8037 - val_loss: 0.6368 - val_accuracy: 0.7619\n",
      "Epoch 12/25\n",
      "438/438 [==============================] - 2s 4ms/step - loss: 0.4949 - accuracy: 0.8196 - val_loss: 0.7145 - val_accuracy: 0.7075\n",
      "Epoch 13/25\n",
      "438/438 [==============================] - 2s 4ms/step - loss: 0.4634 - accuracy: 0.8311 - val_loss: 0.5082 - val_accuracy: 0.8435\n",
      "Epoch 14/25\n",
      "438/438 [==============================] - 2s 4ms/step - loss: 0.3862 - accuracy: 0.8767 - val_loss: 0.5014 - val_accuracy: 0.8231\n",
      "Epoch 15/25\n",
      "438/438 [==============================] - 2s 4ms/step - loss: 0.3788 - accuracy: 0.8699 - val_loss: 0.4190 - val_accuracy: 0.8639\n",
      "Epoch 16/25\n",
      "438/438 [==============================] - 2s 4ms/step - loss: 0.3287 - accuracy: 0.8881 - val_loss: 0.4345 - val_accuracy: 0.8571\n",
      "Epoch 17/25\n",
      "438/438 [==============================] - 2s 3ms/step - loss: 0.3408 - accuracy: 0.8950 - val_loss: 0.4198 - val_accuracy: 0.8435\n",
      "Epoch 18/25\n",
      "438/438 [==============================] - 1s 3ms/step - loss: 0.2951 - accuracy: 0.8904 - val_loss: 0.3696 - val_accuracy: 0.8980\n",
      "Epoch 19/25\n",
      "438/438 [==============================] - 2s 3ms/step - loss: 0.2741 - accuracy: 0.9064 - val_loss: 0.3752 - val_accuracy: 0.8707\n",
      "Epoch 20/25\n",
      "438/438 [==============================] - 2s 3ms/step - loss: 0.2460 - accuracy: 0.9155 - val_loss: 0.3432 - val_accuracy: 0.8776\n",
      "Epoch 21/25\n",
      "438/438 [==============================] - 2s 3ms/step - loss: 0.2254 - accuracy: 0.9201 - val_loss: 0.3257 - val_accuracy: 0.8980\n",
      "Epoch 22/25\n",
      "438/438 [==============================] - 2s 3ms/step - loss: 0.2133 - accuracy: 0.9384 - val_loss: 0.3450 - val_accuracy: 0.8707\n",
      "Epoch 23/25\n",
      "438/438 [==============================] - 2s 3ms/step - loss: 0.1950 - accuracy: 0.9429 - val_loss: 0.3270 - val_accuracy: 0.8912\n",
      "Epoch 24/25\n",
      "438/438 [==============================] - 2s 3ms/step - loss: 0.1949 - accuracy: 0.9406 - val_loss: 0.4666 - val_accuracy: 0.8367\n",
      "Epoch 25/25\n",
      "438/438 [==============================] - 2s 3ms/step - loss: 0.1811 - accuracy: 0.9384 - val_loss: 0.3016 - val_accuracy: 0.9048\n"
     ]
    }
   ],
   "source": [
    "H = model1.fit(trainX, trainY, validation_data=(testX, testY), epochs=25, batch_size=32)"
   ]
  },
  {
   "cell_type": "code",
   "execution_count": 15,
   "metadata": {
    "colab": {
     "base_uri": "https://localhost:8080/",
     "height": 590
    },
    "id": "98_oXi-lcgux",
    "outputId": "dce67449-9739-4996-8d8e-5750fe7112f2"
   },
   "outputs": [
    {
     "name": "stdout",
     "output_type": "stream",
     "text": [
      "dict_keys(['val_loss', 'val_accuracy', 'loss', 'accuracy'])\n"
     ]
    },
    {
     "data": {
      "image/png": "[encoded data removed]",
      "text/plain": [
       "<Figure size 432x288 with 1 Axes>"
      ]
     },
     "metadata": {
      "needs_background": "light"
     },
     "output_type": "display_data"
    },
    {
     "data": {
      "image/png": "[encoded data removed]",
      "text/plain": [
       "<Figure size 432x288 with 1 Axes>"
      ]
     },
     "metadata": {
      "needs_background": "light"
     },
     "output_type": "display_data"
    }
   ],
   "source": [
    "import matplotlib.pyplot as plt\n",
    "\n",
    "print(H.history.keys())\n",
    "# summarize history for accuracy\n",
    "plt.plot(H.history['accuracy'])\n",
    "plt.plot(H.history['val_accuracy'])\n",
    "plt.title('model accuracy')\n",
    "plt.ylabel('accuracy')\n",
    "plt.xlabel('epoch')\n",
    "plt.legend(['train', 'test'], loc='upper left')\n",
    "plt.show()\n",
    "# summarize history for loss\n",
    "plt.plot(H.history['loss'])\n",
    "plt.plot(H.history['val_loss'])\n",
    "plt.title('model loss')\n",
    "plt.ylabel('loss')\n",
    "plt.xlabel('epoch')\n",
    "plt.legend(['train', 'test'], loc='upper left')\n",
    "plt.show()"
   ]
  },
  {
   "cell_type": "code",
   "execution_count": 16,
   "metadata": {
    "colab": {
     "base_uri": "https://localhost:8080/"
    },
    "id": "lPAZkmBJVGCD",
    "outputId": "1f827b07-b427-43f3-f32b-6bf4e31728b7"
   },
   "outputs": [
    {
     "name": "stdout",
     "output_type": "stream",
     "text": [
      "[INFO] evaluating network...\n",
      "              precision    recall  f1-score   support\n",
      "\n",
      "      GMB_01       0.91      0.91      0.91        32\n",
      "      GMB_03       0.89      0.94      0.91        34\n",
      "      GMB_05       0.92      0.96      0.94        24\n",
      "      GMB_07       0.81      0.79      0.80        28\n",
      "      GMB_09       1.00      0.93      0.96        29\n",
      "\n",
      "    accuracy                           0.90       147\n",
      "   macro avg       0.91      0.90      0.90       147\n",
      "weighted avg       0.91      0.90      0.90       147\n",
      "\n"
     ]
    }
   ],
   "source": [
    "# evaluate the network\n",
    "print(\"[INFO] evaluating network...\")\n",
    "predictions = model1.predict(testX, batch_size=32)\n",
    "print(classification_report(testY.argmax(axis=1),\n",
    "\tpredictions.argmax(axis=1), target_names=lb.classes_))"
   ]
  },
  {
   "cell_type": "code",
   "execution_count": 17,
   "metadata": {
    "colab": {
     "base_uri": "https://localhost:8080/"
    },
    "id": "4uBcj8x8iwTw",
    "outputId": "8b4950a0-1d93-4480-dacb-18a24d5f9c84"
   },
   "outputs": [],
   "source": [
    "model.save('nnmodel_scene')"
   ]
  },
  {
   "cell_type": "code",
   "execution_count": 18,
   "metadata": {
    "id": "AOwJT2jLVGCN"
   },
   "outputs": [],
   "source": [
    "import cv2\n",
    "import matplotlib.pyplot as plt\n",
    "image1='coba.jpg'"
   ]
  },
  {
   "cell_type": "code",
   "execution_count": 19,
   "metadata": {
    "colab": {
     "base_uri": "https://localhost:8080/",
     "height": 269
    },
    "id": "PkM68K4GVGCP",
    "outputId": "bf2ea9a2-30ee-4457-9d39-264b8cf580fc"
   },
   "outputs": [
    {
     "data": {
      "image/png": "[encoded data removed]",
      "text/plain": [
       "<Figure size 432x288 with 1 Axes>"
      ]
     },
     "metadata": {
      "needs_background": "light"
     },
     "output_type": "display_data"
    }
   ],
   "source": [
    "img_array = cv2.imread(image1)\n",
    "plt.imshow(img_array)\n",
    "plt.show()\n",
    "#print(type(img_array))"
   ]
  },
  {
   "cell_type": "code",
   "execution_count": 20,
   "metadata": {
    "colab": {
     "base_uri": "https://localhost:8080/"
    },
    "id": "1ZkNY8LWVGCR",
    "outputId": "bf3c8c5e-edb1-4a0d-c6a8-ced21de31294"
   },
   "outputs": [
    {
     "name": "stdout",
     "output_type": "stream",
     "text": [
      "(64, 64, 3)\n"
     ]
    }
   ],
   "source": [
    "image_testing = Image.open('coba.jpg')\n",
    "image_testing = np.array(image_testing.resize((64, 64))) / 255.0\n",
    "print(image_testing.shape)"
   ]
  },
  {
   "cell_type": "code",
   "execution_count": 21,
   "metadata": {
    "colab": {
     "base_uri": "https://localhost:8080/"
    },
    "id": "qL66nfOcVGCT",
    "outputId": "670b3faa-d7fa-4bc3-f841-ed09a120920f",
    "scrolled": true
   },
   "outputs": [
    {
     "name": "stdout",
     "output_type": "stream",
     "text": [
      "(1, 64, 64, 3)\n"
     ]
    }
   ],
   "source": [
    "image_testing = np.expand_dims(image_testing, axis=0)\n",
    "print(image_testing.shape)"
   ]
  },
  {
   "cell_type": "code",
   "execution_count": 22,
   "metadata": {
    "colab": {
     "base_uri": "https://localhost:8080/"
    },
    "id": "vTy9yP1AVGCV",
    "outputId": "e557dae1-6719-4c4d-83ce-8bbd829436d7",
    "scrolled": true
   },
   "outputs": [
    {
     "name": "stdout",
     "output_type": "stream",
     "text": [
      "[[0.19836594 0.18489572 0.08438235 0.16765648 0.3646995 ]]\n",
      "['GMB_09']\n"
     ]
    }
   ],
   "source": [
    "output = model.predict(image_testing, 1)\n",
    "print(output)\n",
    "print(lb.classes_[output.argmax(axis=1)])"
   ]
  }
 ],
 "metadata": {
  "accelerator": "GPU",
  "colab": {
   "collapsed_sections": [],
   "name": "Tugas11_Arif Faturrachman.ipynb",
   "provenance": []
  },
  "kernelspec": {
   "display_name": "Python 3",
   "language": "python",
   "name": "python3"
  },
  "language_info": {
   "codemirror_mode": {
    "name": "ipython",
    "version": 3
   },
   "file_extension": ".py",
   "mimetype": "text/x-python",
   "name": "python",
   "nbconvert_exporter": "python",
   "pygments_lexer": "ipython3",
   "version": "3.7.9"
  }
 },
 "nbformat": 4,
 "nbformat_minor": 1
}
